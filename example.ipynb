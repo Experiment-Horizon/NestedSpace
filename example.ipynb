{
 "cells": [
  {
   "cell_type": "code",
   "execution_count": 1,
   "id": "b89aa31d-940c-4bb0-a859-e4ea12fb8d08",
   "metadata": {},
   "outputs": [],
   "source": [
    "from src import space\n",
    "import json"
   ]
  },
  {
   "cell_type": "code",
   "execution_count": 2,
   "id": "d747e49f-91d2-441d-9701-12266bb30284",
   "metadata": {},
   "outputs": [
    {
     "name": "stdout",
     "output_type": "stream",
     "text": [
      "Project ct scan tumor model - (ID: 7df72fe3-e394-4ab2-8bd3-936e34b27f27) created successfully\n"
     ]
    }
   ],
   "source": [
    "space.set_project(name=\"ct scan tumor model\", created_by='nishanth', description='hello')"
   ]
  },
  {
   "cell_type": "code",
   "execution_count": 3,
   "id": "06c024c4-e47a-4159-9ac8-4e2dbe6ad5db",
   "metadata": {},
   "outputs": [
    {
     "name": "stdout",
     "output_type": "stream",
     "text": [
      "Experiment experiment 1 - (ID: 238e4da6-9659-4946-bfec-6e6ed280d786) created successfully\n"
     ]
    }
   ],
   "source": [
    "space.set_experiment(name=\"experiment 1\",created_by='nishanth')"
   ]
  },
  {
   "cell_type": "code",
   "execution_count": 4,
   "id": "5b7fd6bc-d728-4d23-a8e4-d7528065130e",
   "metadata": {},
   "outputs": [],
   "source": [
    "# Split the data into features and target and drop irrelevant date field and target field\n",
    "import pandas as pd\n",
    "from sklearn.ensemble import RandomForestRegressor\n",
    "from sklearn.metrics import mean_absolute_error, mean_squared_error, r2_score\n",
    "from sklearn.model_selection import train_test_split\n",
    "\n",
    "data =pd.read_csv(\"apples.csv\")\n",
    "\n",
    "X = data.drop(columns=[\"date\", \"demand\"])\n",
    "y = data[\"demand\"]\n",
    "\n",
    "# Split the data into training and validation sets\n",
    "X_train, X_val, y_train, y_val = train_test_split(X, y, test_size=0.2, random_state=42)"
   ]
  },
  {
   "cell_type": "code",
   "execution_count": 5,
   "id": "25b1c891-540c-407b-80b8-5ee37c4cae4c",
   "metadata": {},
   "outputs": [
    {
     "name": "stdout",
     "output_type": "stream",
     "text": [
      "Run run1 - (ID: 1f9c8548-7d34-4732-8630-467c2f533939) created successfully\n"
     ]
    }
   ],
   "source": [
    "space.start_run(name=\"run1\")"
   ]
  },
  {
   "cell_type": "code",
   "execution_count": 6,
   "id": "fdaac855-dc78-4887-91e8-88e10772fe06",
   "metadata": {},
   "outputs": [
    {
     "name": "stdout",
     "output_type": "stream",
     "text": [
      "'hyperparameter : n_estimators' logged (ID: a28efe1c-3e77-4d6a-b1a5-a0765a2f62d5)\n",
      "'hyperparameter : max_depth' logged (ID: b9e6fae2-ca79-4487-80e6-8b5db544d310)\n",
      "'hyperparameter : min_samples_split' logged (ID: 38711ff2-39c7-4051-82cf-ab5cff15883c)\n",
      "'hyperparameter : min_samples_leaf' logged (ID: 40d0e421-b58a-4f2b-bbd0-c54bd2318316)\n",
      "'hyperparameter : bootstrap' logged (ID: 0c38e349-769a-43d4-a307-5fb48aa8e8fd)\n",
      "'hyperparameter : oob_score' logged (ID: 16ad1315-127c-4491-ad04-7c50ceabb4c7)\n",
      "'hyperparameter : random_state' logged (ID: b2dd3111-2895-4012-873b-8ae91e5c938d)\n"
     ]
    }
   ],
   "source": [
    "params = {\n",
    "    \"n_estimators\": 100,\n",
    "    \"max_depth\": 6,\n",
    "    \"min_samples_split\": 10,\n",
    "    \"min_samples_leaf\": 4,\n",
    "    \"bootstrap\": True,\n",
    "    \"oob_score\": False,\n",
    "    \"random_state\": 888,\n",
    "}\n",
    "space.log_hyperparameters(value = params)"
   ]
  },
  {
   "cell_type": "code",
   "execution_count": 7,
   "id": "1e95711f-addb-4e21-bb78-2fadbf96d1b7",
   "metadata": {},
   "outputs": [],
   "source": [
    "\n",
    "import numpy as np\n",
    "\n",
    "# Train the RandomForestRegressor\n",
    "rf = RandomForestRegressor(**params)\n",
    "\n",
    "# Fit the model on the training data\n",
    "rf.fit(X_train, y_train)\n",
    "\n",
    "# Predict on the validation set\n",
    "y_pred = rf.predict(X_val)\n",
    "\n",
    "# Calculate error metrics\n",
    "mae = mean_absolute_error(y_val, y_pred)\n",
    "mse = mean_squared_error(y_val, y_pred)\n",
    "rmse = np.sqrt(mse)\n",
    "r2 = r2_score(y_val, y_pred)\n",
    "\n",
    "# Assemble the metrics we're going to write into a collection\n",
    "metrics = {\"mae\": mae, \"mse\": mse, \"rmse\": rmse, \"r2\": r2}"
   ]
  },
  {
   "cell_type": "code",
   "execution_count": 8,
   "id": "3cb27ba6-677b-4f82-ba4b-88baf2bbbcfe",
   "metadata": {},
   "outputs": [
    {
     "name": "stdout",
     "output_type": "stream",
     "text": [
      "'metric : mae' logged (ID: 794d8f78-62c5-4be8-a5e5-a29d84c3e49b)\n",
      "'metric : mse' logged (ID: 7942cc82-6b55-4985-91ed-8c9aac309216)\n",
      "'metric : rmse' logged (ID: adbe24b1-15cf-44af-8088-b918483f163a)\n",
      "'metric : r2' logged (ID: 8a702a73-a2bc-4829-a7b3-023752544a64)\n"
     ]
    }
   ],
   "source": [
    "space.log_metrics(value = metrics)"
   ]
  },
  {
   "cell_type": "code",
   "execution_count": 9,
   "id": "e078300e-8bb2-4f03-97cc-db3172e02c5a",
   "metadata": {},
   "outputs": [
    {
     "name": "stdout",
     "output_type": "stream",
     "text": [
      "'metric : mape' logged (ID: ee861577-457b-49a4-970d-0f144a957a96)\n"
     ]
    }
   ],
   "source": [
    "space.log_metrics(name=\"mape\", value=0.15)"
   ]
  },
  {
   "cell_type": "code",
   "execution_count": 10,
   "id": "95aaca11-d3ce-4cad-a80d-0070b99a356f",
   "metadata": {},
   "outputs": [
    {
     "name": "stdout",
     "output_type": "stream",
     "text": [
      "'artifact : data' logged (ID: 66dff157-4c77-4f97-ac08-93c6d5962c46)\n"
     ]
    }
   ],
   "source": [
    "space.log_artifacts(name=\"data\", path=\"apples.csv\", artifact_type=\"data\")"
   ]
  },
  {
   "cell_type": "code",
   "execution_count": 11,
   "id": "f3e960d0-592e-474c-a1d7-a3524334ca33",
   "metadata": {},
   "outputs": [],
   "source": [
    "space.stop_run()"
   ]
  },
  {
   "cell_type": "code",
   "execution_count": 12,
   "id": "2f6e721e-3b57-4ed9-8281-0104b8873c8b",
   "metadata": {},
   "outputs": [],
   "source": [
    "space.get(\"ee1703cc-a399-48d0-accf-6c0030cf4156\")"
   ]
  },
  {
   "cell_type": "code",
   "execution_count": 13,
   "id": "b5577f74-1d1f-4d4e-8846-16b397357b6e",
   "metadata": {},
   "outputs": [
    {
     "data": {
      "text/html": [
       "<div>\n",
       "<style scoped>\n",
       "    .dataframe tbody tr th:only-of-type {\n",
       "        vertical-align: middle;\n",
       "    }\n",
       "\n",
       "    .dataframe tbody tr th {\n",
       "        vertical-align: top;\n",
       "    }\n",
       "\n",
       "    .dataframe thead th {\n",
       "        text-align: right;\n",
       "    }\n",
       "</style>\n",
       "<table border=\"1\" class=\"dataframe\">\n",
       "  <thead>\n",
       "    <tr style=\"text-align: right;\">\n",
       "      <th></th>\n",
       "      <th>created_at</th>\n",
       "      <th>last_updated</th>\n",
       "      <th>name</th>\n",
       "      <th>created_by</th>\n",
       "      <th>description</th>\n",
       "      <th>tags</th>\n",
       "      <th>value</th>\n",
       "      <th>type</th>\n",
       "    </tr>\n",
       "  </thead>\n",
       "  <tbody>\n",
       "    <tr>\n",
       "      <th>0</th>\n",
       "      <td>2025-01-26 12:06:50</td>\n",
       "      <td>2025-01-26 12:06:50</td>\n",
       "      <td>n_estimators</td>\n",
       "      <td>1f9c8548-7d34-4732-8630-467c2f533939</td>\n",
       "      <td></td>\n",
       "      <td>[]</td>\n",
       "      <td>100</td>\n",
       "      <td>hyperparameter</td>\n",
       "    </tr>\n",
       "    <tr>\n",
       "      <th>1</th>\n",
       "      <td>2025-01-26 12:06:50</td>\n",
       "      <td>2025-01-26 12:06:50</td>\n",
       "      <td>max_depth</td>\n",
       "      <td>1f9c8548-7d34-4732-8630-467c2f533939</td>\n",
       "      <td></td>\n",
       "      <td>[]</td>\n",
       "      <td>6</td>\n",
       "      <td>hyperparameter</td>\n",
       "    </tr>\n",
       "    <tr>\n",
       "      <th>2</th>\n",
       "      <td>2025-01-26 12:06:50</td>\n",
       "      <td>2025-01-26 12:06:50</td>\n",
       "      <td>min_samples_split</td>\n",
       "      <td>1f9c8548-7d34-4732-8630-467c2f533939</td>\n",
       "      <td></td>\n",
       "      <td>[]</td>\n",
       "      <td>10</td>\n",
       "      <td>hyperparameter</td>\n",
       "    </tr>\n",
       "    <tr>\n",
       "      <th>3</th>\n",
       "      <td>2025-01-26 12:06:50</td>\n",
       "      <td>2025-01-26 12:06:50</td>\n",
       "      <td>min_samples_leaf</td>\n",
       "      <td>1f9c8548-7d34-4732-8630-467c2f533939</td>\n",
       "      <td></td>\n",
       "      <td>[]</td>\n",
       "      <td>4</td>\n",
       "      <td>hyperparameter</td>\n",
       "    </tr>\n",
       "    <tr>\n",
       "      <th>4</th>\n",
       "      <td>2025-01-26 12:06:50</td>\n",
       "      <td>2025-01-26 12:06:50</td>\n",
       "      <td>bootstrap</td>\n",
       "      <td>1f9c8548-7d34-4732-8630-467c2f533939</td>\n",
       "      <td></td>\n",
       "      <td>[]</td>\n",
       "      <td>True</td>\n",
       "      <td>hyperparameter</td>\n",
       "    </tr>\n",
       "    <tr>\n",
       "      <th>5</th>\n",
       "      <td>2025-01-26 12:06:50</td>\n",
       "      <td>2025-01-26 12:06:50</td>\n",
       "      <td>oob_score</td>\n",
       "      <td>1f9c8548-7d34-4732-8630-467c2f533939</td>\n",
       "      <td></td>\n",
       "      <td>[]</td>\n",
       "      <td>False</td>\n",
       "      <td>hyperparameter</td>\n",
       "    </tr>\n",
       "    <tr>\n",
       "      <th>6</th>\n",
       "      <td>2025-01-26 12:06:50</td>\n",
       "      <td>2025-01-26 12:06:50</td>\n",
       "      <td>random_state</td>\n",
       "      <td>1f9c8548-7d34-4732-8630-467c2f533939</td>\n",
       "      <td></td>\n",
       "      <td>[]</td>\n",
       "      <td>888</td>\n",
       "      <td>hyperparameter</td>\n",
       "    </tr>\n",
       "  </tbody>\n",
       "</table>\n",
       "</div>"
      ],
      "text/plain": [
       "            created_at         last_updated               name  \\\n",
       "0  2025-01-26 12:06:50  2025-01-26 12:06:50       n_estimators   \n",
       "1  2025-01-26 12:06:50  2025-01-26 12:06:50          max_depth   \n",
       "2  2025-01-26 12:06:50  2025-01-26 12:06:50  min_samples_split   \n",
       "3  2025-01-26 12:06:50  2025-01-26 12:06:50   min_samples_leaf   \n",
       "4  2025-01-26 12:06:50  2025-01-26 12:06:50          bootstrap   \n",
       "5  2025-01-26 12:06:50  2025-01-26 12:06:50          oob_score   \n",
       "6  2025-01-26 12:06:50  2025-01-26 12:06:50       random_state   \n",
       "\n",
       "                             created_by description tags  value  \\\n",
       "0  1f9c8548-7d34-4732-8630-467c2f533939               []    100   \n",
       "1  1f9c8548-7d34-4732-8630-467c2f533939               []      6   \n",
       "2  1f9c8548-7d34-4732-8630-467c2f533939               []     10   \n",
       "3  1f9c8548-7d34-4732-8630-467c2f533939               []      4   \n",
       "4  1f9c8548-7d34-4732-8630-467c2f533939               []   True   \n",
       "5  1f9c8548-7d34-4732-8630-467c2f533939               []  False   \n",
       "6  1f9c8548-7d34-4732-8630-467c2f533939               []    888   \n",
       "\n",
       "             type  \n",
       "0  hyperparameter  \n",
       "1  hyperparameter  \n",
       "2  hyperparameter  \n",
       "3  hyperparameter  \n",
       "4  hyperparameter  \n",
       "5  hyperparameter  \n",
       "6  hyperparameter  "
      ]
     },
     "execution_count": 13,
     "metadata": {},
     "output_type": "execute_result"
    }
   ],
   "source": [
    "space.get_hyperparameters(run_name=\"run1\", as_dataframe = True)"
   ]
  },
  {
   "cell_type": "code",
   "execution_count": 14,
   "id": "2544f1e6-726d-4a4f-9a18-0cbd9c6d2ab9",
   "metadata": {},
   "outputs": [
    {
     "name": "stdout",
     "output_type": "stream",
     "text": [
      "238e4da6-9659-4946-bfec-6e6ed280d786\n",
      "['7df72fe3-e394-4ab2-8bd3-936e34b27f27']\n"
     ]
    },
    {
     "data": {
      "text/html": [
       "<div>\n",
       "<style scoped>\n",
       "    .dataframe tbody tr th:only-of-type {\n",
       "        vertical-align: middle;\n",
       "    }\n",
       "\n",
       "    .dataframe tbody tr th {\n",
       "        vertical-align: top;\n",
       "    }\n",
       "\n",
       "    .dataframe thead th {\n",
       "        text-align: right;\n",
       "    }\n",
       "</style>\n",
       "<table border=\"1\" class=\"dataframe\">\n",
       "  <thead>\n",
       "    <tr style=\"text-align: right;\">\n",
       "      <th></th>\n",
       "      <th>created_at</th>\n",
       "      <th>last_updated</th>\n",
       "      <th>name</th>\n",
       "      <th>created_by</th>\n",
       "      <th>description</th>\n",
       "      <th>tags</th>\n",
       "      <th>type</th>\n",
       "    </tr>\n",
       "  </thead>\n",
       "  <tbody>\n",
       "    <tr>\n",
       "      <th>0</th>\n",
       "      <td>2025-01-26 12:06:50</td>\n",
       "      <td>2025-01-26 12:06:50</td>\n",
       "      <td>experiment 1</td>\n",
       "      <td>nishanth</td>\n",
       "      <td></td>\n",
       "      <td>[]</td>\n",
       "      <td>experiment</td>\n",
       "    </tr>\n",
       "  </tbody>\n",
       "</table>\n",
       "</div>"
      ],
      "text/plain": [
       "            created_at         last_updated          name created_by  \\\n",
       "0  2025-01-26 12:06:50  2025-01-26 12:06:50  experiment 1   nishanth   \n",
       "\n",
       "  description tags        type  \n",
       "0               []  experiment  "
      ]
     },
     "execution_count": 14,
     "metadata": {},
     "output_type": "execute_result"
    }
   ],
   "source": [
    "space.list_experiments(as_dataframe=True)"
   ]
  },
  {
   "cell_type": "code",
   "execution_count": 15,
   "id": "0ccae3b0-2594-4217-931b-cdd2acafde99",
   "metadata": {},
   "outputs": [
    {
     "name": "stdout",
     "output_type": "stream",
     "text": [
      "Searching for experiment: experiment 1\n",
      "Experiment IDs found: ['238e4da6-9659-4946-bfec-6e6ed280d786']\n",
      "Checking run node 1f9c8548-7d34-4732-8630-467c2f533939, predecessors: ['238e4da6-9659-4946-bfec-6e6ed280d786']\n",
      "Runs found: [{'created_at': '2025-01-26 12:06:50', 'last_updated': '2025-01-26 12:06:50', 'name': 'run1', 'created_by': '', 'description': '', 'tags': '', 'type': 'run', 'end_time': '2025-01-26 12:06:52'}]\n"
     ]
    },
    {
     "data": {
      "text/plain": [
       "[{'created_at': '2025-01-26 12:06:50',\n",
       "  'last_updated': '2025-01-26 12:06:50',\n",
       "  'name': 'run1',\n",
       "  'created_by': '',\n",
       "  'description': '',\n",
       "  'tags': '',\n",
       "  'type': 'run',\n",
       "  'end_time': '2025-01-26 12:06:52'}]"
      ]
     },
     "execution_count": 15,
     "metadata": {},
     "output_type": "execute_result"
    }
   ],
   "source": [
    "space.list_runs(experiment_name = 'experiment 1')"
   ]
  },
  {
   "cell_type": "code",
   "execution_count": 16,
   "id": "1d31cbc8-8271-4d93-b254-77325ff6036a",
   "metadata": {},
   "outputs": [
    {
     "name": "stdout",
     "output_type": "stream",
     "text": [
      "238e4da6-9659-4946-bfec-6e6ed280d786\n",
      "['7df72fe3-e394-4ab2-8bd3-936e34b27f27']\n",
      "Searching for experiment: experiment 1\n",
      "Experiment IDs found: ['238e4da6-9659-4946-bfec-6e6ed280d786']\n",
      "Checking run node 1f9c8548-7d34-4732-8630-467c2f533939, predecessors: ['238e4da6-9659-4946-bfec-6e6ed280d786']\n",
      "Runs found: [{'created_at': '2025-01-26 12:06:50', 'last_updated': '2025-01-26 12:06:50', 'name': 'run1', 'created_by': '', 'description': '', 'tags': '', 'type': 'run', 'end_time': '2025-01-26 12:06:52'}]\n",
      "{'experiment 1': [{'created_at': '2025-01-26 12:06:50', 'last_updated': '2025-01-26 12:06:50', 'name': 'run1', 'created_by': '', 'description': '', 'tags': '', 'type': 'run', 'end_time': '2025-01-26 12:06:52'}]}\n"
     ]
    }
   ],
   "source": [
    "def get_tracked_data():\n",
    "    experiments_info = space.list_experiments()\n",
    "    tracked_data = {}\n",
    "    for info in experiments_info:\n",
    "        exp_name = info[\"name\"]\n",
    "        runs = space.list_runs(experiment_name = 'experiment 1')\n",
    "        tracked_data[exp_name] = runs\n",
    "    print(tracked_data)\n",
    "\n",
    "get_tracked_data()"
   ]
  },
  {
   "cell_type": "code",
   "execution_count": 20,
   "id": "c05c6f47-acd7-466c-88a5-a90a268dd9fa",
   "metadata": {},
   "outputs": [
    {
     "data": {
      "text/html": [
       "<div>\n",
       "<style scoped>\n",
       "    .dataframe tbody tr th:only-of-type {\n",
       "        vertical-align: middle;\n",
       "    }\n",
       "\n",
       "    .dataframe tbody tr th {\n",
       "        vertical-align: top;\n",
       "    }\n",
       "\n",
       "    .dataframe thead th {\n",
       "        text-align: right;\n",
       "    }\n",
       "</style>\n",
       "<table border=\"1\" class=\"dataframe\">\n",
       "  <thead>\n",
       "    <tr style=\"text-align: right;\">\n",
       "      <th></th>\n",
       "      <th>a</th>\n",
       "      <th>b</th>\n",
       "    </tr>\n",
       "  </thead>\n",
       "  <tbody>\n",
       "    <tr>\n",
       "      <th>0</th>\n",
       "      <td>1.0</td>\n",
       "      <td>NaN</td>\n",
       "    </tr>\n",
       "    <tr>\n",
       "      <th>1</th>\n",
       "      <td>NaN</td>\n",
       "      <td>2.0</td>\n",
       "    </tr>\n",
       "  </tbody>\n",
       "</table>\n",
       "</div>"
      ],
      "text/plain": [
       "     a    b\n",
       "0  1.0  NaN\n",
       "1  NaN  2.0"
      ]
     },
     "execution_count": 20,
     "metadata": {},
     "output_type": "execute_result"
    }
   ],
   "source": [
    "pd.DataFrame([{'a':1, 'b':1},{'b':2}])"
   ]
  },
  {
   "cell_type": "code",
   "execution_count": 4,
   "id": "af7f6d6a-281c-4649-b1d7-6079398dfd31",
   "metadata": {},
   "outputs": [
    {
     "data": {
      "application/vnd.jupyter.widget-view+json": {
       "model_id": "d144f6e7d3924de8967c26965269ba8c",
       "version_major": 2,
       "version_minor": 0
      },
      "text/plain": [
       "HBox(children=(HTML(value='<b>Select Experiment:</b>'), Dropdown(options=('Experiment 1', 'Experiment 2'), val…"
      ]
     },
     "metadata": {},
     "output_type": "display_data"
    },
    {
     "data": {
      "application/vnd.jupyter.widget-view+json": {
       "model_id": "5335c358466946f287cdbec6ae04780c",
       "version_major": 2,
       "version_minor": 0
      },
      "text/plain": [
       "HTML(value=\"<span style='font-size: 1.2em;'><b>Title:</b></span> <span style='font-size: 1em;'>First Experimen…"
      ]
     },
     "metadata": {},
     "output_type": "display_data"
    },
    {
     "data": {
      "application/vnd.jupyter.widget-view+json": {
       "model_id": "3fed5bc9e8024f9fb33420a3b9d9d36c",
       "version_major": 2,
       "version_minor": 0
      },
      "text/plain": [
       "HTML(value=\"<span style='font-size: 1.2em;'><b>Description:</b></span> <span style='font-size: 1em;'>Lung canc…"
      ]
     },
     "metadata": {},
     "output_type": "display_data"
    },
    {
     "data": {
      "application/vnd.jupyter.widget-view+json": {
       "model_id": "9124502950e34accb6b6b752f5e3089b",
       "version_major": 2,
       "version_minor": 0
      },
      "text/plain": [
       "HTML(value=\"<span style='font-size: 1.2em;'><b>Tags:</b></span> <span style='font-size: 1em;'>tag1, tag2</span…"
      ]
     },
     "metadata": {},
     "output_type": "display_data"
    },
    {
     "data": {
      "application/vnd.jupyter.widget-view+json": {
       "model_id": "2de2189683a34fd282865164bf9b30c3",
       "version_major": 2,
       "version_minor": 0
      },
      "text/plain": [
       "HTML(value=\"<span style='font-size: 1.2em;'><b>Created By:</b></span> <span style='font-size: 1em;'>User A</sp…"
      ]
     },
     "metadata": {},
     "output_type": "display_data"
    },
    {
     "data": {
      "application/vnd.jupyter.widget-view+json": {
       "model_id": "6ece2e018abb4820b197ac621bee21e7",
       "version_major": 2,
       "version_minor": 0
      },
      "text/plain": [
       "Box(children=(Dropdown(description='Sort by:', layout=Layout(margin='20px 0 5px 0', width='350px'), options=('…"
      ]
     },
     "metadata": {},
     "output_type": "display_data"
    },
    {
     "data": {
      "application/vnd.jupyter.widget-view+json": {
       "model_id": "92c08e0fb1fa4d63a050b911a2dc6da2",
       "version_major": 2,
       "version_minor": 0
      },
      "text/plain": [
       "Output()"
      ]
     },
     "metadata": {},
     "output_type": "display_data"
    }
   ],
   "source": [
    "import ipywidgets as widgets\n",
    "from IPython.display import display, clear_output, HTML\n",
    "import pandas as pd\n",
    "\n",
    "\n",
    "class ExperimentView:\n",
    "    def __init__(self, experiments):\n",
    "        self.experiments = experiments\n",
    "        self.df = None\n",
    "        self.numerical_columns = []\n",
    "\n",
    "        # Create UI elements\n",
    "        self.experiment_selector = widgets.Dropdown(options=list(self.experiments.keys()),\n",
    "                                                    )\n",
    "        self.experiment_selector_view = widgets.HBox(\n",
    "            [widgets.HTML(value=\"<b>Select Experiment:</b>\"), self.experiment_selector],\n",
    "            layout=widgets.Layout(margin='10px 0 15px 0'), )\n",
    "        self.title_label = widgets.HTML()\n",
    "        self.description_label = widgets.HTML()\n",
    "        self.tags_label = widgets.HTML()\n",
    "        self.created_by_label = widgets.HTML()\n",
    "        self.output_table = widgets.Output()\n",
    "\n",
    "        # Initialize display\n",
    "        self.sort_by_dropdown = widgets.Dropdown(description='Sort by:',\n",
    "                                                 layout=widgets.Layout(margin='20px 0 5px 0', width=\"350px\"))\n",
    "        self.sort_order_dropdown = widgets.Dropdown(options=['Ascending', 'Descending'], description='Order:',\n",
    "                                                    layout=widgets.Layout(margin='20px 0 5px 0', width=\"200px\"))\n",
    "        self.sort_menu = widgets.Box([self.sort_by_dropdown, self.sort_order_dropdown],\n",
    "                                     layout=widgets.Layout(display='flex', justify_content='flex-end'))\n",
    "\n",
    "        # Link events to functions\n",
    "        self.experiment_selector.observe(self.on_experiment_change, names='value')\n",
    "        self.sort_by_dropdown.observe(self.sort_table, names='value')\n",
    "        self.sort_order_dropdown.observe(self.sort_table, names='value')\n",
    "\n",
    "        # Initial display of experiment data\n",
    "        self.update_display(self.experiment_selector.value)\n",
    "\n",
    "        # Display the UI components\n",
    "        display(self.experiment_selector_view)\n",
    "        display(self.title_label)\n",
    "        display(self.description_label)\n",
    "        display(self.tags_label)\n",
    "        display(self.created_by_label)\n",
    "        display(self.sort_menu)\n",
    "        display(self.output_table)\n",
    "\n",
    "    def create_dataframe(self, selected_experiment):\n",
    "        \"\"\"Convert run data into a pandas DataFrame.\"\"\"\n",
    "        runs = self.experiments[selected_experiment]['runs']\n",
    "\n",
    "        # Extracting data for DataFrame creation\n",
    "        data = []\n",
    "        for run in runs:\n",
    "            run_data = {\n",
    "                'Run ID': run['run_id'],\n",
    "                'Status': run['status']\n",
    "            }\n",
    "\n",
    "            # Dynamically adding hyperparameters and metrics\n",
    "            for key, value in run['hyperparameters'].items():\n",
    "                run_data[f'Hyperparameter: {key}'] = value\n",
    "\n",
    "            for key, value in run['metrics'].items():\n",
    "                run_data[f'Metric: {key}'] = value\n",
    "\n",
    "            data.append(run_data)\n",
    "\n",
    "        self.df = pd.DataFrame(data)\n",
    "\n",
    "        # Detecting numerical columns\n",
    "        self.numerical_columns = self.df.select_dtypes(include=['number']).columns.tolist()\n",
    "\n",
    "    def display_sorted_table(self, df):\n",
    "        \"\"\"Display the sorted DataFrame as an HTML table.\"\"\"\n",
    "        table_html = df.to_html(index=False, border=1)\n",
    "        with self.output_table:\n",
    "            clear_output()\n",
    "            display(HTML(table_html))\n",
    "\n",
    "    def update_display(self, selected_experiment):\n",
    "        \"\"\"Update the display based on selected experiment.\"\"\"\n",
    "        experiment_data = self.experiments[selected_experiment]\n",
    "\n",
    "        self.title_label.value = f\"<span style='font-size: 1.2em;'><b>Title:</b></span> <span style='font-size: 1em;'>{experiment_data['title']}</span>\"\n",
    "        self.description_label.value = f\"<span style='font-size: 1.2em;'><b>Description:</b></span> <span style='font-size: 1em;'>{experiment_data['description']}</span>\"\n",
    "        self.tags_label.value = f\"<span style='font-size: 1.2em;'><b>Tags:</b></span> <span style='font-size: 1em;'>{', '.join(experiment_data['tags'])}</span>\"\n",
    "        self.created_by_label.value = f\"<span style='font-size: 1.2em;'><b>Created By:</b></span> <span style='font-size: 1em;'>{experiment_data['created_by']}</span>\"\n",
    "\n",
    "        self.create_dataframe(selected_experiment)\n",
    "\n",
    "        # Update sort options based on new DataFrame\n",
    "        self.sort_by_dropdown.options = self.numerical_columns\n",
    "\n",
    "        # Display the initial sorted table\n",
    "        if len(self.numerical_columns) > 0:\n",
    "            self.display_sorted_table(self.df)\n",
    "\n",
    "    def on_experiment_change(self, change):\n",
    "        \"\"\"Handle change in experiment selection.\"\"\"\n",
    "        self.update_display(change['new'])\n",
    "\n",
    "    def sort_table(self, change):\n",
    "        \"\"\"Sort and display the table based on selected criteria.\"\"\"\n",
    "        if not self.df.empty:\n",
    "            sorted_df = self.df.sort_values(by=self.sort_by_dropdown.value,\n",
    "                                            ascending=self.sort_order_dropdown.value == 'Ascending')\n",
    "            self.display_sorted_table(sorted_df)\n",
    "\n",
    "\n",
    "# Sample data for experiments with hyperparameters and metrics\n",
    "experiments_data = {\n",
    "    \"Experiment 1\": {\n",
    "        \"description\": \"Lung cancer detection involves using advanced diagnostic techniques and tools to identify the presence of cancerous cells in the lungs at an early stage. This process typically integrates medical imaging technologies like X-rays, CT scans, and PET scans with emerging computational tools, such as artificial intelligence (AI) and machine learning algorithms. These technologies can analyze medical images to identify abnormalities, such as nodules or tumors, that may indicate cancer.\",\n",
    "        \"title\": \"First Experiment\",\n",
    "        \"tags\": [\"tag1\", \"tag2\"],\n",
    "        \"created_by\": \"User A\",\n",
    "        \"runs\": [\n",
    "            {\"run_id\": \"1\", \"status\": \"completed\",\n",
    "             \"hyperparameters\": {\"learning_rate\": 0.01, \"batch_size\": 32, \"alpha\": 0.02, \"epoch\": 64},\n",
    "             \"metrics\": {\"accuracy\": 0.95, \"loss\": 0.05}},\n",
    "            {\"run_id\": \"2\", \"status\": \"failed\",\n",
    "             \"hyperparameters\": {\"learning_rate\": 0.001, \"batch_size\": 64, \"alpha\": 0.03, \"epoch\": 128},\n",
    "             \"metrics\": {\"accuracy\": 0.80, \"loss\": 0.2}},\n",
    "        ]\n",
    "    },\n",
    "    \"Experiment 2\": {\n",
    "        \"description\": \"This is the second experiment.\",\n",
    "        \"title\": \"Second Experiment\",\n",
    "        \"tags\": [\"tag3\", \"tag4\"],\n",
    "        \"created_by\": \"User B\",\n",
    "        \"runs\": [\n",
    "            {\"run_id\": \"3\", \"status\": \"in progress\", \"hyperparameters\": {\"learning_rate\": 0.1, \"batch_size\": 128},\n",
    "             \"metrics\": {\"accuracy\": 0.90, \"loss\": 0.1}},\n",
    "            {\"run_id\": \"4\", \"status\": \"completed\", \"hyperparameters\": {\"learning_rate\": 0.05, \"batch_size\": 16},\n",
    "             \"metrics\": {\"accuracy\": 0.98, \"loss\": 0.02}},\n",
    "        ]\n",
    "    }\n",
    "}\n",
    "\n",
    "# Create an instance of ExperimentManager with the sample data\n",
    "experiment_manager = ExperimentView(experiments_data)\n"
   ]
  },
  {
   "cell_type": "code",
   "execution_count": null,
   "id": "8e6cfcfc-0d47-44bf-80ef-248fc30a96ca",
   "metadata": {},
   "outputs": [],
   "source": []
  }
 ],
 "metadata": {
  "kernelspec": {
   "display_name": "Python 3 (ipykernel)",
   "language": "python",
   "name": "python3"
  },
  "language_info": {
   "codemirror_mode": {
    "name": "ipython",
    "version": 3
   },
   "file_extension": ".py",
   "mimetype": "text/x-python",
   "name": "python",
   "nbconvert_exporter": "python",
   "pygments_lexer": "ipython3",
   "version": "3.12.3"
  }
 },
 "nbformat": 4,
 "nbformat_minor": 5
}
