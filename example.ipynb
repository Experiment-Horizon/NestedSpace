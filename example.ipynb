{
 "cells": [
  {
   "cell_type": "code",
   "execution_count": 1,
   "id": "b89aa31d-940c-4bb0-a859-e4ea12fb8d08",
   "metadata": {},
   "outputs": [],
   "source": [
    "from src import space\n",
    "import json"
   ]
  },
  {
   "cell_type": "code",
   "execution_count": 2,
   "id": "d747e49f-91d2-441d-9701-12266bb30284",
   "metadata": {},
   "outputs": [
    {
     "name": "stdout",
     "output_type": "stream",
     "text": [
      "Project ct scan tumor model - (ID: afa7cade-f5d5-4677-8de3-9fe376f96567) created successfully\n"
     ]
    }
   ],
   "source": [
    "space.set_project(name=\"ct scan tumor model\", created_by='nishanth', description='hello')"
   ]
  },
  {
   "cell_type": "code",
   "execution_count": 3,
   "id": "06c024c4-e47a-4159-9ac8-4e2dbe6ad5db",
   "metadata": {},
   "outputs": [
    {
     "name": "stdout",
     "output_type": "stream",
     "text": [
      "Experiment experiment 1 - (ID: 6c1e57ec-2924-491e-b692-95a4cbefb2c0) created successfully\n"
     ]
    }
   ],
   "source": [
    "space.set_experiment(name=\"experiment 1\",created_by='nishanth')"
   ]
  },
  {
   "cell_type": "code",
   "execution_count": 4,
   "id": "5b7fd6bc-d728-4d23-a8e4-d7528065130e",
   "metadata": {},
   "outputs": [],
   "source": [
    "# Split the data into features and target and drop irrelevant date field and target field\n",
    "import pandas as pd\n",
    "from sklearn.ensemble import RandomForestRegressor\n",
    "from sklearn.metrics import mean_absolute_error, mean_squared_error, r2_score\n",
    "from sklearn.model_selection import train_test_split\n",
    "\n",
    "data =pd.read_csv(\"apples.csv\")\n",
    "\n",
    "X = data.drop(columns=[\"date\", \"demand\"])\n",
    "y = data[\"demand\"]\n",
    "\n",
    "# Split the data into training and validation sets\n",
    "X_train, X_val, y_train, y_val = train_test_split(X, y, test_size=0.2, random_state=42)"
   ]
  },
  {
   "cell_type": "code",
   "execution_count": 5,
   "id": "25b1c891-540c-407b-80b8-5ee37c4cae4c",
   "metadata": {},
   "outputs": [
    {
     "name": "stdout",
     "output_type": "stream",
     "text": [
      "Run run1 - (ID: 8c749f27-e536-4d90-962d-431ca30998a9) created successfully\n"
     ]
    }
   ],
   "source": [
    "space.start_run(name=\"run1\")"
   ]
  },
  {
   "cell_type": "code",
   "execution_count": 6,
   "id": "fdaac855-dc78-4887-91e8-88e10772fe06",
   "metadata": {},
   "outputs": [
    {
     "name": "stdout",
     "output_type": "stream",
     "text": [
      "'hyperparameter : n_estimators' logged (ID: 22224367-62ad-4651-9ac4-7763c01a9ca1)\n",
      "'hyperparameter : max_depth' logged (ID: ea654704-8887-48bd-b47e-44ccf0ec3d58)\n",
      "'hyperparameter : min_samples_split' logged (ID: dd4b962a-1eb2-426c-af5c-81a7ef03bdef)\n",
      "'hyperparameter : min_samples_leaf' logged (ID: cd8004fe-999b-48c4-86e9-9ef07a8f5bf8)\n",
      "'hyperparameter : bootstrap' logged (ID: c4dddd2c-edef-4ebe-add9-a80e13894791)\n",
      "'hyperparameter : oob_score' logged (ID: 3867fa4a-d277-495b-9b21-aba2151a240d)\n",
      "'hyperparameter : random_state' logged (ID: e47f6eea-a804-4557-9b19-585684e145cb)\n"
     ]
    }
   ],
   "source": [
    "params = {\n",
    "    \"n_estimators\": 100,\n",
    "    \"max_depth\": 6,\n",
    "    \"min_samples_split\": 10,\n",
    "    \"min_samples_leaf\": 4,\n",
    "    \"bootstrap\": True,\n",
    "    \"oob_score\": False,\n",
    "    \"random_state\": 888,\n",
    "}\n",
    "space.log_hyperparameters(value = params)"
   ]
  },
  {
   "cell_type": "code",
   "execution_count": 7,
   "id": "1e95711f-addb-4e21-bb78-2fadbf96d1b7",
   "metadata": {},
   "outputs": [],
   "source": [
    "\n",
    "import numpy as np\n",
    "\n",
    "# Train the RandomForestRegressor\n",
    "rf = RandomForestRegressor(**params)\n",
    "\n",
    "# Fit the model on the training data\n",
    "rf.fit(X_train, y_train)\n",
    "\n",
    "# Predict on the validation set\n",
    "y_pred = rf.predict(X_val)\n",
    "\n",
    "# Calculate error metrics\n",
    "mae = mean_absolute_error(y_val, y_pred)\n",
    "mse = mean_squared_error(y_val, y_pred)\n",
    "rmse = np.sqrt(mse)\n",
    "r2 = r2_score(y_val, y_pred)\n",
    "\n",
    "# Assemble the metrics we're going to write into a collection\n",
    "metrics = {\"mae\": mae, \"mse\": mse, \"rmse\": rmse, \"r2\": r2}"
   ]
  },
  {
   "cell_type": "code",
   "execution_count": 8,
   "id": "3cb27ba6-677b-4f82-ba4b-88baf2bbbcfe",
   "metadata": {},
   "outputs": [
    {
     "name": "stdout",
     "output_type": "stream",
     "text": [
      "'metric : mae' logged (ID: e9e40300-668a-4d6d-b551-ca076a98020e)\n",
      "'metric : mse' logged (ID: 994fc100-6c16-4798-bce1-3408e160d94e)\n",
      "'metric : rmse' logged (ID: bc716ddb-a816-47b6-9a09-8ac95aa1c4d7)\n",
      "'metric : r2' logged (ID: 29fcdf0b-7bd2-4aa9-9ebe-7da617c1d1ec)\n"
     ]
    }
   ],
   "source": [
    "space.log_metrics(value = metrics)"
   ]
  },
  {
   "cell_type": "code",
   "execution_count": 9,
   "id": "e078300e-8bb2-4f03-97cc-db3172e02c5a",
   "metadata": {},
   "outputs": [
    {
     "name": "stdout",
     "output_type": "stream",
     "text": [
      "'metric : mape' logged (ID: ee58cc81-483e-4979-a07f-6fc2d2fdaf3e)\n"
     ]
    }
   ],
   "source": [
    "space.log_metrics(name=\"mape\", value=0.15)"
   ]
  },
  {
   "cell_type": "code",
   "execution_count": 10,
   "id": "95aaca11-d3ce-4cad-a80d-0070b99a356f",
   "metadata": {},
   "outputs": [
    {
     "name": "stdout",
     "output_type": "stream",
     "text": [
      "'artifact : data' logged (ID: 2ddb83f5-7c02-453b-9cde-68c73f9a7258)\n"
     ]
    }
   ],
   "source": [
    "space.log_artifacts(name=\"data\", path=\"apples.csv\", artifact_type=\"data\")"
   ]
  },
  {
   "cell_type": "code",
   "execution_count": 11,
   "id": "f3e960d0-592e-474c-a1d7-a3524334ca33",
   "metadata": {},
   "outputs": [],
   "source": [
    "space.stop_run()"
   ]
  },
  {
   "cell_type": "code",
   "execution_count": null,
   "id": "2f6e721e-3b57-4ed9-8281-0104b8873c8b",
   "metadata": {},
   "outputs": [],
   "source": []
  }
 ],
 "metadata": {
  "kernelspec": {
   "display_name": "Python 3 (ipykernel)",
   "language": "python",
   "name": "python3"
  },
  "language_info": {
   "codemirror_mode": {
    "name": "ipython",
    "version": 3
   },
   "file_extension": ".py",
   "mimetype": "text/x-python",
   "name": "python",
   "nbconvert_exporter": "python",
   "pygments_lexer": "ipython3",
   "version": "3.12.3"
  }
 },
 "nbformat": 4,
 "nbformat_minor": 5
}
