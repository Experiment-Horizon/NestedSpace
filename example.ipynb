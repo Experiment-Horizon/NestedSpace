{
 "cells": [
  {
   "cell_type": "code",
   "execution_count": 1,
   "id": "b89aa31d-940c-4bb0-a859-e4ea12fb8d08",
   "metadata": {},
   "outputs": [],
   "source": [
    "from src import space\n",
    "import json"
   ]
  },
  {
   "cell_type": "code",
   "execution_count": 2,
   "id": "d747e49f-91d2-441d-9701-12266bb30284",
   "metadata": {},
   "outputs": [
    {
     "name": "stdout",
     "output_type": "stream",
     "text": [
      "Project ct scan tumor model - (ID: 6039ddc0-9862-470d-b8fa-405cd78c4ec6) created successfully\n"
     ]
    }
   ],
   "source": [
    "space.set_project(name=\"ct scan tumor model\", created_by='nishanth', description='hello')"
   ]
  },
  {
   "cell_type": "code",
   "execution_count": 3,
   "id": "06c024c4-e47a-4159-9ac8-4e2dbe6ad5db",
   "metadata": {},
   "outputs": [
    {
     "name": "stdout",
     "output_type": "stream",
     "text": [
      "Experiment experiment 1 - (ID: ee1703cc-a399-48d0-accf-6c0030cf4156) created successfully\n"
     ]
    }
   ],
   "source": [
    "space.set_experiment(name=\"experiment 1\",created_by='nishanth')"
   ]
  },
  {
   "cell_type": "code",
   "execution_count": 4,
   "id": "5b7fd6bc-d728-4d23-a8e4-d7528065130e",
   "metadata": {},
   "outputs": [],
   "source": [
    "# Split the data into features and target and drop irrelevant date field and target field\n",
    "import pandas as pd\n",
    "from sklearn.ensemble import RandomForestRegressor\n",
    "from sklearn.metrics import mean_absolute_error, mean_squared_error, r2_score\n",
    "from sklearn.model_selection import train_test_split\n",
    "\n",
    "data =pd.read_csv(\"apples.csv\")\n",
    "\n",
    "X = data.drop(columns=[\"date\", \"demand\"])\n",
    "y = data[\"demand\"]\n",
    "\n",
    "# Split the data into training and validation sets\n",
    "X_train, X_val, y_train, y_val = train_test_split(X, y, test_size=0.2, random_state=42)"
   ]
  },
  {
   "cell_type": "code",
   "execution_count": 5,
   "id": "25b1c891-540c-407b-80b8-5ee37c4cae4c",
   "metadata": {},
   "outputs": [
    {
     "name": "stdout",
     "output_type": "stream",
     "text": [
      "Run run1 - (ID: 21c06e54-8bad-44ab-8101-d380111b1976) created successfully\n"
     ]
    }
   ],
   "source": [
    "space.start_run(name=\"run1\")"
   ]
  },
  {
   "cell_type": "code",
   "execution_count": 6,
   "id": "fdaac855-dc78-4887-91e8-88e10772fe06",
   "metadata": {},
   "outputs": [
    {
     "name": "stdout",
     "output_type": "stream",
     "text": [
      "'hyperparameter : n_estimators' logged (ID: 7d5f51bf-e33a-4a99-a341-f5c76494c0a1)\n",
      "'hyperparameter : max_depth' logged (ID: cc93d956-e4ec-413c-9268-4c96278275b6)\n",
      "'hyperparameter : min_samples_split' logged (ID: f0da9244-944a-491c-8173-120a133889c6)\n",
      "'hyperparameter : min_samples_leaf' logged (ID: c92c2b1c-d23f-4eb8-b7ab-35b07abf4ecc)\n",
      "'hyperparameter : bootstrap' logged (ID: 1a1c1add-5cba-40ab-84e9-af04795adb9b)\n",
      "'hyperparameter : oob_score' logged (ID: 56aef5da-d50a-4c43-93de-a26384b31946)\n",
      "'hyperparameter : random_state' logged (ID: ae84627d-d682-443b-83b0-1501c8d071b2)\n"
     ]
    }
   ],
   "source": [
    "params = {\n",
    "    \"n_estimators\": 100,\n",
    "    \"max_depth\": 6,\n",
    "    \"min_samples_split\": 10,\n",
    "    \"min_samples_leaf\": 4,\n",
    "    \"bootstrap\": True,\n",
    "    \"oob_score\": False,\n",
    "    \"random_state\": 888,\n",
    "}\n",
    "space.log_hyperparameters(value = params)"
   ]
  },
  {
   "cell_type": "code",
   "execution_count": 7,
   "id": "1e95711f-addb-4e21-bb78-2fadbf96d1b7",
   "metadata": {},
   "outputs": [],
   "source": [
    "\n",
    "import numpy as np\n",
    "\n",
    "# Train the RandomForestRegressor\n",
    "rf = RandomForestRegressor(**params)\n",
    "\n",
    "# Fit the model on the training data\n",
    "rf.fit(X_train, y_train)\n",
    "\n",
    "# Predict on the validation set\n",
    "y_pred = rf.predict(X_val)\n",
    "\n",
    "# Calculate error metrics\n",
    "mae = mean_absolute_error(y_val, y_pred)\n",
    "mse = mean_squared_error(y_val, y_pred)\n",
    "rmse = np.sqrt(mse)\n",
    "r2 = r2_score(y_val, y_pred)\n",
    "\n",
    "# Assemble the metrics we're going to write into a collection\n",
    "metrics = {\"mae\": mae, \"mse\": mse, \"rmse\": rmse, \"r2\": r2}"
   ]
  },
  {
   "cell_type": "code",
   "execution_count": 8,
   "id": "3cb27ba6-677b-4f82-ba4b-88baf2bbbcfe",
   "metadata": {},
   "outputs": [
    {
     "name": "stdout",
     "output_type": "stream",
     "text": [
      "'metric : mae' logged (ID: 2cb30f4b-92a7-4120-b01a-4e021455e713)\n",
      "'metric : mse' logged (ID: def63f95-5737-4f30-bd03-598246f90e93)\n",
      "'metric : rmse' logged (ID: ba55add0-4def-40a0-b794-236513821b5d)\n",
      "'metric : r2' logged (ID: 4e37fa4b-1b41-4221-b1f2-3731f5c61605)\n"
     ]
    }
   ],
   "source": [
    "space.log_metrics(value = metrics)"
   ]
  },
  {
   "cell_type": "code",
   "execution_count": 9,
   "id": "e078300e-8bb2-4f03-97cc-db3172e02c5a",
   "metadata": {},
   "outputs": [
    {
     "name": "stdout",
     "output_type": "stream",
     "text": [
      "'metric : mape' logged (ID: 0454a57a-e3a6-45e9-bda6-ea46d2739bf2)\n"
     ]
    }
   ],
   "source": [
    "space.log_metrics(name=\"mape\", value=0.15)"
   ]
  },
  {
   "cell_type": "code",
   "execution_count": 10,
   "id": "95aaca11-d3ce-4cad-a80d-0070b99a356f",
   "metadata": {},
   "outputs": [
    {
     "name": "stdout",
     "output_type": "stream",
     "text": [
      "'artifact : data' logged (ID: 00295398-830e-4ba6-a9ca-3648b33af762)\n"
     ]
    }
   ],
   "source": [
    "space.log_artifacts(name=\"data\", path=\"apples.csv\", artifact_type=\"data\")"
   ]
  },
  {
   "cell_type": "code",
   "execution_count": 11,
   "id": "f3e960d0-592e-474c-a1d7-a3524334ca33",
   "metadata": {},
   "outputs": [],
   "source": [
    "space.stop_run()"
   ]
  },
  {
   "cell_type": "code",
   "execution_count": 18,
   "id": "2f6e721e-3b57-4ed9-8281-0104b8873c8b",
   "metadata": {},
   "outputs": [
    {
     "data": {
      "text/plain": [
       "{'created_at': '2025-01-11 12:41:37',\n",
       " 'last_updated': '2025-01-11 12:41:37',\n",
       " 'name': 'experiment 1',\n",
       " 'created_by': 'nishanth',\n",
       " 'description': '',\n",
       " 'tags': [],\n",
       " 'type': 'experiment'}"
      ]
     },
     "execution_count": 18,
     "metadata": {},
     "output_type": "execute_result"
    }
   ],
   "source": [
    "space.get(\"ee1703cc-a399-48d0-accf-6c0030cf4156\")"
   ]
  },
  {
   "cell_type": "code",
   "execution_count": 13,
   "id": "6e6fe30b-93e6-44fe-a2d8-f2fd3435abc7",
   "metadata": {},
   "outputs": [],
   "source": [
    "space.update_name(curr_name=\"run1\", latest_name=\"run2\", type=\"run\")"
   ]
  },
  {
   "cell_type": "code",
   "execution_count": 14,
   "id": "0f920feb-ad60-46ad-a489-6eef7af6866d",
   "metadata": {},
   "outputs": [],
   "source": [
    "space.delete(name=\"run2\", type=\"run\")"
   ]
  },
  {
   "cell_type": "code",
   "execution_count": null,
   "id": "bec6878c-4756-4c0a-b407-615591165472",
   "metadata": {},
   "outputs": [],
   "source": []
  }
 ],
 "metadata": {
  "kernelspec": {
   "display_name": "Python 3 (ipykernel)",
   "language": "python",
   "name": "python3"
  },
  "language_info": {
   "codemirror_mode": {
    "name": "ipython",
    "version": 3
   },
   "file_extension": ".py",
   "mimetype": "text/x-python",
   "name": "python",
   "nbconvert_exporter": "python",
   "pygments_lexer": "ipython3",
   "version": "3.12.3"
  }
 },
 "nbformat": 4,
 "nbformat_minor": 5
}
