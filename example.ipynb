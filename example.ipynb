{
 "cells": [
  {
   "cell_type": "code",
   "execution_count": 1,
   "id": "b89aa31d-940c-4bb0-a859-e4ea12fb8d08",
   "metadata": {},
   "outputs": [],
   "source": [
    "from src import space\n",
    "import json"
   ]
  },
  {
   "cell_type": "code",
   "execution_count": 2,
   "id": "d747e49f-91d2-441d-9701-12266bb30284",
   "metadata": {},
   "outputs": [
    {
     "name": "stdout",
     "output_type": "stream",
     "text": [
      "Project ct scan tumor model - (ID: 75344087-1bd8-4008-896a-1d615f4f4943) created successfully\n"
     ]
    }
   ],
   "source": [
    "space.set_project(name=\"ct scan tumor model\", created_by='nishanth', description='hello')"
   ]
  },
  {
   "cell_type": "code",
   "execution_count": 3,
   "id": "06c024c4-e47a-4159-9ac8-4e2dbe6ad5db",
   "metadata": {},
   "outputs": [
    {
     "name": "stdout",
     "output_type": "stream",
     "text": [
      "Experiment experiment 1 - (ID: 2eef2760-eff6-4276-97bd-87c8c532b771) created successfully\n"
     ]
    }
   ],
   "source": [
    "space.set_experiment(name=\"experiment 1\",created_by='nishanth')"
   ]
  },
  {
   "cell_type": "code",
   "execution_count": 4,
   "id": "5b7fd6bc-d728-4d23-a8e4-d7528065130e",
   "metadata": {},
   "outputs": [],
   "source": [
    "# Split the data into features and target and drop irrelevant date field and target field\n",
    "import pandas as pd\n",
    "from sklearn.ensemble import RandomForestRegressor\n",
    "from sklearn.metrics import mean_absolute_error, mean_squared_error, r2_score\n",
    "from sklearn.model_selection import train_test_split\n",
    "\n",
    "data =pd.read_csv(\"apples.csv\")\n",
    "\n",
    "X = data.drop(columns=[\"date\", \"demand\"])\n",
    "y = data[\"demand\"]\n",
    "\n",
    "# Split the data into training and validation sets\n",
    "X_train, X_val, y_train, y_val = train_test_split(X, y, test_size=0.2, random_state=42)"
   ]
  },
  {
   "cell_type": "code",
   "execution_count": 5,
   "id": "25b1c891-540c-407b-80b8-5ee37c4cae4c",
   "metadata": {},
   "outputs": [
    {
     "name": "stdout",
     "output_type": "stream",
     "text": [
      "Run run1 - (ID: b2e7e8af-0934-4e83-8fab-1bba2a1862ff) created successfully\n"
     ]
    }
   ],
   "source": [
    "space.start_run(name=\"run1\")"
   ]
  },
  {
   "cell_type": "code",
   "execution_count": 6,
   "id": "fdaac855-dc78-4887-91e8-88e10772fe06",
   "metadata": {},
   "outputs": [
    {
     "name": "stdout",
     "output_type": "stream",
     "text": [
      "'hyperparameter : n_estimators' logged (ID: 6d0e8096-44e0-444a-be9b-cd400b01e026)\n",
      "'hyperparameter : max_depth' logged (ID: 674759d7-c2ae-4b1e-a4cd-07c9f182c8ee)\n",
      "'hyperparameter : min_samples_split' logged (ID: 54fb0dae-0c53-4dc2-9ecf-c66c975c3097)\n",
      "'hyperparameter : min_samples_leaf' logged (ID: 0fd0fd9a-5e2f-413c-a438-5657fa1d5171)\n",
      "'hyperparameter : bootstrap' logged (ID: ce872235-aab3-4df9-b280-8ec354355114)\n",
      "'hyperparameter : oob_score' logged (ID: ed58c147-b406-45ec-bb25-dfe4e6c2d24b)\n",
      "'hyperparameter : random_state' logged (ID: 63ab57f8-1d8e-4bdb-8754-54388ef0d65c)\n"
     ]
    }
   ],
   "source": [
    "params = {\n",
    "    \"n_estimators\": 100,\n",
    "    \"max_depth\": 6,\n",
    "    \"min_samples_split\": 10,\n",
    "    \"min_samples_leaf\": 4,\n",
    "    \"bootstrap\": True,\n",
    "    \"oob_score\": False,\n",
    "    \"random_state\": 888,\n",
    "}\n",
    "space.log_hyperparameters(value = params)"
   ]
  },
  {
   "cell_type": "code",
   "execution_count": 7,
   "id": "1e95711f-addb-4e21-bb78-2fadbf96d1b7",
   "metadata": {},
   "outputs": [],
   "source": [
    "\n",
    "import numpy as np\n",
    "\n",
    "# Train the RandomForestRegressor\n",
    "rf = RandomForestRegressor(**params)\n",
    "\n",
    "# Fit the model on the training data\n",
    "rf.fit(X_train, y_train)\n",
    "\n",
    "# Predict on the validation set\n",
    "y_pred = rf.predict(X_val)\n",
    "\n",
    "# Calculate error metrics\n",
    "mae = mean_absolute_error(y_val, y_pred)\n",
    "mse = mean_squared_error(y_val, y_pred)\n",
    "rmse = np.sqrt(mse)\n",
    "r2 = r2_score(y_val, y_pred)\n",
    "\n",
    "# Assemble the metrics we're going to write into a collection\n",
    "metrics = {\"mae\": mae, \"mse\": mse, \"rmse\": rmse, \"r2\": r2}"
   ]
  },
  {
   "cell_type": "code",
   "execution_count": 8,
   "id": "3cb27ba6-677b-4f82-ba4b-88baf2bbbcfe",
   "metadata": {},
   "outputs": [
    {
     "name": "stdout",
     "output_type": "stream",
     "text": [
      "'metric : mae' logged (ID: d07ec3bb-2e9d-4d96-8b41-b8133f994f7f)\n",
      "'metric : mse' logged (ID: 19e1bf37-b014-4b5f-8c84-43abd22c9bf8)\n",
      "'metric : rmse' logged (ID: 7e16c1d6-2438-4937-8476-cbaad9cb43bc)\n",
      "'metric : r2' logged (ID: 847c0dee-5a39-44bf-a629-80188e6b1d1f)\n"
     ]
    }
   ],
   "source": [
    "space.log_metrics(value = metrics)"
   ]
  },
  {
   "cell_type": "code",
   "execution_count": 9,
   "id": "e078300e-8bb2-4f03-97cc-db3172e02c5a",
   "metadata": {},
   "outputs": [
    {
     "name": "stdout",
     "output_type": "stream",
     "text": [
      "'metric : mape' logged (ID: 874b2b1d-ea66-488b-85e1-0b0c4088e5c8)\n"
     ]
    }
   ],
   "source": [
    "space.log_metrics(name=\"mape\", value=0.15)"
   ]
  },
  {
   "cell_type": "code",
   "execution_count": 10,
   "id": "95aaca11-d3ce-4cad-a80d-0070b99a356f",
   "metadata": {},
   "outputs": [
    {
     "name": "stdout",
     "output_type": "stream",
     "text": [
      "'artifact : data' logged (ID: c3fea473-8640-465c-b082-fab21f88f9db)\n"
     ]
    }
   ],
   "source": [
    "space.log_artifacts(name=\"data\", path=\"apples.csv\", artifact_type=\"data\")"
   ]
  },
  {
   "cell_type": "code",
   "execution_count": 11,
   "id": "f3e960d0-592e-474c-a1d7-a3524334ca33",
   "metadata": {},
   "outputs": [],
   "source": [
    "space.stop_run()"
   ]
  },
  {
   "cell_type": "code",
   "execution_count": 12,
   "id": "2f6e721e-3b57-4ed9-8281-0104b8873c8b",
   "metadata": {},
   "outputs": [],
   "source": [
    "space.get(\"ee1703cc-a399-48d0-accf-6c0030cf4156\")"
   ]
  },
  {
   "cell_type": "code",
   "execution_count": 13,
   "id": "bec6878c-4756-4c0a-b407-615591165472",
   "metadata": {},
   "outputs": [
    {
     "ename": "SyntaxError",
     "evalue": "invalid syntax (4106290902.py, line 1)",
     "output_type": "error",
     "traceback": [
      "\u001b[0;36m  Cell \u001b[0;32mIn[13], line 1\u001b[0;36m\u001b[0m\n\u001b[0;31m    run => {\u001b[0m\n\u001b[0m         ^\u001b[0m\n\u001b[0;31mSyntaxError\u001b[0m\u001b[0;31m:\u001b[0m invalid syntax\n"
     ]
    }
   ],
   "source": [
    "run => {\n",
    "    hyperparamter : {\n",
    "        name: value,\n",
    "        name: value,\n",
    "        name: value\n",
    "    },\n",
    "    metric : {\n",
    "        name:value\n",
    "    },\n",
    "    artifact: {\n",
    "        name: value\n",
    "    }\n",
    "    \n",
    "}"
   ]
  },
  {
   "cell_type": "code",
   "execution_count": 15,
   "id": "b5577f74-1d1f-4d4e-8846-16b397357b6e",
   "metadata": {},
   "outputs": [
    {
     "data": {
      "text/html": [
       "<div>\n",
       "<style scoped>\n",
       "    .dataframe tbody tr th:only-of-type {\n",
       "        vertical-align: middle;\n",
       "    }\n",
       "\n",
       "    .dataframe tbody tr th {\n",
       "        vertical-align: top;\n",
       "    }\n",
       "\n",
       "    .dataframe thead th {\n",
       "        text-align: right;\n",
       "    }\n",
       "</style>\n",
       "<table border=\"1\" class=\"dataframe\">\n",
       "  <thead>\n",
       "    <tr style=\"text-align: right;\">\n",
       "      <th></th>\n",
       "      <th>created_at</th>\n",
       "      <th>last_updated</th>\n",
       "      <th>name</th>\n",
       "      <th>created_by</th>\n",
       "      <th>description</th>\n",
       "      <th>tags</th>\n",
       "      <th>value</th>\n",
       "      <th>type</th>\n",
       "    </tr>\n",
       "  </thead>\n",
       "  <tbody>\n",
       "    <tr>\n",
       "      <th>0</th>\n",
       "      <td>2025-01-12 16:59:38</td>\n",
       "      <td>2025-01-12 16:59:38</td>\n",
       "      <td>n_estimators</td>\n",
       "      <td>b2e7e8af-0934-4e83-8fab-1bba2a1862ff</td>\n",
       "      <td></td>\n",
       "      <td>[]</td>\n",
       "      <td>100</td>\n",
       "      <td>hyperparameter</td>\n",
       "    </tr>\n",
       "    <tr>\n",
       "      <th>1</th>\n",
       "      <td>2025-01-12 16:59:38</td>\n",
       "      <td>2025-01-12 16:59:38</td>\n",
       "      <td>max_depth</td>\n",
       "      <td>b2e7e8af-0934-4e83-8fab-1bba2a1862ff</td>\n",
       "      <td></td>\n",
       "      <td>[]</td>\n",
       "      <td>6</td>\n",
       "      <td>hyperparameter</td>\n",
       "    </tr>\n",
       "    <tr>\n",
       "      <th>2</th>\n",
       "      <td>2025-01-12 16:59:38</td>\n",
       "      <td>2025-01-12 16:59:38</td>\n",
       "      <td>min_samples_split</td>\n",
       "      <td>b2e7e8af-0934-4e83-8fab-1bba2a1862ff</td>\n",
       "      <td></td>\n",
       "      <td>[]</td>\n",
       "      <td>10</td>\n",
       "      <td>hyperparameter</td>\n",
       "    </tr>\n",
       "    <tr>\n",
       "      <th>3</th>\n",
       "      <td>2025-01-12 16:59:38</td>\n",
       "      <td>2025-01-12 16:59:38</td>\n",
       "      <td>min_samples_leaf</td>\n",
       "      <td>b2e7e8af-0934-4e83-8fab-1bba2a1862ff</td>\n",
       "      <td></td>\n",
       "      <td>[]</td>\n",
       "      <td>4</td>\n",
       "      <td>hyperparameter</td>\n",
       "    </tr>\n",
       "    <tr>\n",
       "      <th>4</th>\n",
       "      <td>2025-01-12 16:59:38</td>\n",
       "      <td>2025-01-12 16:59:38</td>\n",
       "      <td>bootstrap</td>\n",
       "      <td>b2e7e8af-0934-4e83-8fab-1bba2a1862ff</td>\n",
       "      <td></td>\n",
       "      <td>[]</td>\n",
       "      <td>True</td>\n",
       "      <td>hyperparameter</td>\n",
       "    </tr>\n",
       "    <tr>\n",
       "      <th>5</th>\n",
       "      <td>2025-01-12 16:59:38</td>\n",
       "      <td>2025-01-12 16:59:38</td>\n",
       "      <td>oob_score</td>\n",
       "      <td>b2e7e8af-0934-4e83-8fab-1bba2a1862ff</td>\n",
       "      <td></td>\n",
       "      <td>[]</td>\n",
       "      <td>False</td>\n",
       "      <td>hyperparameter</td>\n",
       "    </tr>\n",
       "    <tr>\n",
       "      <th>6</th>\n",
       "      <td>2025-01-12 16:59:38</td>\n",
       "      <td>2025-01-12 16:59:38</td>\n",
       "      <td>random_state</td>\n",
       "      <td>b2e7e8af-0934-4e83-8fab-1bba2a1862ff</td>\n",
       "      <td></td>\n",
       "      <td>[]</td>\n",
       "      <td>888</td>\n",
       "      <td>hyperparameter</td>\n",
       "    </tr>\n",
       "  </tbody>\n",
       "</table>\n",
       "</div>"
      ],
      "text/plain": [
       "            created_at         last_updated               name  \\\n",
       "0  2025-01-12 16:59:38  2025-01-12 16:59:38       n_estimators   \n",
       "1  2025-01-12 16:59:38  2025-01-12 16:59:38          max_depth   \n",
       "2  2025-01-12 16:59:38  2025-01-12 16:59:38  min_samples_split   \n",
       "3  2025-01-12 16:59:38  2025-01-12 16:59:38   min_samples_leaf   \n",
       "4  2025-01-12 16:59:38  2025-01-12 16:59:38          bootstrap   \n",
       "5  2025-01-12 16:59:38  2025-01-12 16:59:38          oob_score   \n",
       "6  2025-01-12 16:59:38  2025-01-12 16:59:38       random_state   \n",
       "\n",
       "                             created_by description tags  value  \\\n",
       "0  b2e7e8af-0934-4e83-8fab-1bba2a1862ff               []    100   \n",
       "1  b2e7e8af-0934-4e83-8fab-1bba2a1862ff               []      6   \n",
       "2  b2e7e8af-0934-4e83-8fab-1bba2a1862ff               []     10   \n",
       "3  b2e7e8af-0934-4e83-8fab-1bba2a1862ff               []      4   \n",
       "4  b2e7e8af-0934-4e83-8fab-1bba2a1862ff               []   True   \n",
       "5  b2e7e8af-0934-4e83-8fab-1bba2a1862ff               []  False   \n",
       "6  b2e7e8af-0934-4e83-8fab-1bba2a1862ff               []    888   \n",
       "\n",
       "             type  \n",
       "0  hyperparameter  \n",
       "1  hyperparameter  \n",
       "2  hyperparameter  \n",
       "3  hyperparameter  \n",
       "4  hyperparameter  \n",
       "5  hyperparameter  \n",
       "6  hyperparameter  "
      ]
     },
     "execution_count": 15,
     "metadata": {},
     "output_type": "execute_result"
    }
   ],
   "source": [
    "space.get_hyperparameters(run_name=\"run1\", as_dataframe = True)"
   ]
  },
  {
   "cell_type": "code",
   "execution_count": 16,
   "id": "2544f1e6-726d-4a4f-9a18-0cbd9c6d2ab9",
   "metadata": {},
   "outputs": [
    {
     "name": "stdout",
     "output_type": "stream",
     "text": [
      "No runs found for experiment 'experiment 1'. Skipping.\n",
      "No suitable runs found.\n"
     ]
    },
    {
     "data": {
      "text/html": [
       "<div>\n",
       "<style scoped>\n",
       "    .dataframe tbody tr th:only-of-type {\n",
       "        vertical-align: middle;\n",
       "    }\n",
       "\n",
       "    .dataframe tbody tr th {\n",
       "        vertical-align: top;\n",
       "    }\n",
       "\n",
       "    .dataframe thead th {\n",
       "        text-align: right;\n",
       "    }\n",
       "</style>\n",
       "<table border=\"1\" class=\"dataframe\">\n",
       "  <thead>\n",
       "    <tr style=\"text-align: right;\">\n",
       "      <th></th>\n",
       "    </tr>\n",
       "  </thead>\n",
       "  <tbody>\n",
       "  </tbody>\n",
       "</table>\n",
       "</div>"
      ],
      "text/plain": [
       "Empty DataFrame\n",
       "Columns: []\n",
       "Index: []"
      ]
     },
     "execution_count": 16,
     "metadata": {},
     "output_type": "execute_result"
    }
   ],
   "source": [
    "space.get_best_run(experiment_name=\"experiment 1\", metric_name=\"mae\", objective=\"minimize\")"
   ]
  },
  {
   "cell_type": "code",
   "execution_count": null,
   "id": "4bfa5774-8e5b-4135-b0c5-397d33374205",
   "metadata": {},
   "outputs": [],
   "source": []
  }
 ],
 "metadata": {
  "kernelspec": {
   "display_name": "Python 3 (ipykernel)",
   "language": "python",
   "name": "python3"
  },
  "language_info": {
   "codemirror_mode": {
    "name": "ipython",
    "version": 3
   },
   "file_extension": ".py",
   "mimetype": "text/x-python",
   "name": "python",
   "nbconvert_exporter": "python",
   "pygments_lexer": "ipython3",
   "version": "3.12.3"
  }
 },
 "nbformat": 4,
 "nbformat_minor": 5
}
